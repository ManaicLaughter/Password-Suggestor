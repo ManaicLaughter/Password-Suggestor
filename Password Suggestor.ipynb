{
 "cells": [
  {
   "cell_type": "code",
   "execution_count": 1,
   "metadata": {},
   "outputs": [],
   "source": [
    "import random\n",
    "import string"
   ]
  },
  {
   "cell_type": "code",
   "execution_count": 2,
   "metadata": {},
   "outputs": [
    {
     "name": "stdout",
     "output_type": "stream",
     "text": [
      "Welcome to password picker!\n",
      "Your password is: maniacgirl90)\n",
      "Would you like another password? Type y or n: y\n",
      "Your password is: coolboy17`\n",
      "Would you like another password? Type y or n: n\n",
      "Thank You!!\n"
     ]
    }
   ],
   "source": [
    "print('Welcome to password picker!')\n",
    "while True:\n",
    "    adjectives = ['sleepy','maniac','awake', 'cool', 'great', 'dude', 'god', 'noob', 'pro', 'yellow', 'brave',\n",
    "                  'badass', 'shrimp','fluffy','thug', 'roasted']        \n",
    "    nouns = ['apple', 'london', 'modi','rapper', 'bro', 'goat', 'dragon', 'toast', 'dinosaur','sour' \n",
    "             'lady','boy', 'girl','taj']\n",
    "    adjective = random.choice(adjectives)\n",
    "    noun = random.choice(nouns)\n",
    "    number = random.randrange(0,100)\n",
    "    spl_character = random.choice(string.punctuation)\n",
    "\n",
    "    password = adjective + noun + str(number) + spl_character\n",
    "    print('Your password is: ' + password )\n",
    "    \n",
    "    response = input('Would you like another password? Type y or n: ')\n",
    "    if response == 'n':\n",
    "        break\n",
    "            \n",
    "print('Thank You!!')\n",
    "    "
   ]
  }
 ],
 "metadata": {
  "kernelspec": {
   "display_name": "Python 3",
   "language": "python",
   "name": "python3"
  },
  "language_info": {
   "codemirror_mode": {
    "name": "ipython",
    "version": 3
   },
   "file_extension": ".py",
   "mimetype": "text/x-python",
   "name": "python",
   "nbconvert_exporter": "python",
   "pygments_lexer": "ipython3",
   "version": "3.7.6"
  }
 },
 "nbformat": 4,
 "nbformat_minor": 4
}
